{
 "cells": [
  {
   "cell_type": "markdown",
   "metadata": {},
   "source": [
    "# Reconnaissance des Digits basée sur les enregistrements Audios "
   ]
  },
  {
   "cell_type": "markdown",
   "metadata": {},
   "source": [
    "### Importer les bibliothéques necessaires "
   ]
  },
  {
   "cell_type": "code",
   "execution_count": 1,
   "metadata": {},
   "outputs": [],
   "source": [
    "import numpy as np\n",
    "import os\n",
    "import matplotlib.pyplot as plt\n",
    "import seaborn as sb\n",
    "sb.set_style(\"whitegrid\", {'axes.grid' : False})\n",
    "sb.set(font_scale = 2)\n",
    "import pandas as pd\n",
    "from sklearn.model_selection import train_test_split\n",
    "from sklearn.preprocessing import StandardScaler\n",
    "from sklearn.tree import DecisionTreeClassifier\n",
    "from sklearn.ensemble import RandomForestClassifier\n",
    "from sklearn.ensemble import GradientBoostingClassifier\n",
    "from sklearn.svm import SVC\n",
    "from sklearn.neural_network import MLPClassifier "
   ]
  },
  {
   "cell_type": "code",
   "execution_count": 2,
   "metadata": {},
   "outputs": [],
   "source": [
    "from Tools.tools import collection"
   ]
  },
  {
   "cell_type": "markdown",
   "metadata": {},
   "source": [
    "### Collection "
   ]
  },
  {
   "cell_type": "markdown",
   "metadata": {},
   "source": [
    "collection()"
   ]
  },
  {
   "cell_type": "markdown",
   "metadata": {},
   "source": [
    "#### 1. Importer votre DataSet"
   ]
  },
  {
   "cell_type": "code",
   "execution_count": 3,
   "metadata": {},
   "outputs": [],
   "source": [
    "mydata = pd.read_csv('./DataSet/'+os.listdir('./DataSet/')[0])"
   ]
  },
  {
   "cell_type": "markdown",
   "metadata": {},
   "source": [
    "##### Print"
   ]
  },
  {
   "cell_type": "code",
   "execution_count": 4,
   "metadata": {},
   "outputs": [
    {
     "data": {
      "text/html": [
       "<div>\n",
       "<style scoped>\n",
       "    .dataframe tbody tr th:only-of-type {\n",
       "        vertical-align: middle;\n",
       "    }\n",
       "\n",
       "    .dataframe tbody tr th {\n",
       "        vertical-align: top;\n",
       "    }\n",
       "\n",
       "    .dataframe thead th {\n",
       "        text-align: right;\n",
       "    }\n",
       "</style>\n",
       "<table border=\"1\" class=\"dataframe\">\n",
       "  <thead>\n",
       "    <tr style=\"text-align: right;\">\n",
       "      <th></th>\n",
       "      <th>Fe1</th>\n",
       "      <th>Fe2</th>\n",
       "      <th>Fe3</th>\n",
       "      <th>Fe4</th>\n",
       "      <th>Fe5</th>\n",
       "      <th>Fe6</th>\n",
       "      <th>Fe7</th>\n",
       "      <th>Fe8</th>\n",
       "      <th>Fe9</th>\n",
       "      <th>Fe10</th>\n",
       "      <th>Fe11</th>\n",
       "      <th>Fe12</th>\n",
       "      <th>Target</th>\n",
       "    </tr>\n",
       "  </thead>\n",
       "  <tbody>\n",
       "    <tr>\n",
       "      <th>0</th>\n",
       "      <td>14.009980</td>\n",
       "      <td>-10.883263</td>\n",
       "      <td>4.365307</td>\n",
       "      <td>4.986854</td>\n",
       "      <td>2.435013</td>\n",
       "      <td>-12.367657</td>\n",
       "      <td>0.054216</td>\n",
       "      <td>-6.505667</td>\n",
       "      <td>-6.805871</td>\n",
       "      <td>2.364852</td>\n",
       "      <td>-4.845748</td>\n",
       "      <td>-4.725184</td>\n",
       "      <td>0.0</td>\n",
       "    </tr>\n",
       "    <tr>\n",
       "      <th>1</th>\n",
       "      <td>12.618823</td>\n",
       "      <td>-18.567271</td>\n",
       "      <td>-0.825264</td>\n",
       "      <td>-2.935280</td>\n",
       "      <td>-1.252682</td>\n",
       "      <td>-10.560307</td>\n",
       "      <td>3.010610</td>\n",
       "      <td>0.327419</td>\n",
       "      <td>0.905538</td>\n",
       "      <td>6.674397</td>\n",
       "      <td>-0.364233</td>\n",
       "      <td>-4.261779</td>\n",
       "      <td>1.0</td>\n",
       "    </tr>\n",
       "    <tr>\n",
       "      <th>2</th>\n",
       "      <td>12.210632</td>\n",
       "      <td>-26.004803</td>\n",
       "      <td>-5.622614</td>\n",
       "      <td>-6.454565</td>\n",
       "      <td>0.081624</td>\n",
       "      <td>-6.172828</td>\n",
       "      <td>4.900269</td>\n",
       "      <td>-0.985544</td>\n",
       "      <td>-3.634996</td>\n",
       "      <td>0.872817</td>\n",
       "      <td>-2.394720</td>\n",
       "      <td>-4.316653</td>\n",
       "      <td>2.0</td>\n",
       "    </tr>\n",
       "    <tr>\n",
       "      <th>3</th>\n",
       "      <td>13.355268</td>\n",
       "      <td>-14.450084</td>\n",
       "      <td>0.671483</td>\n",
       "      <td>0.231994</td>\n",
       "      <td>1.089737</td>\n",
       "      <td>-11.538107</td>\n",
       "      <td>2.880812</td>\n",
       "      <td>-1.121280</td>\n",
       "      <td>-4.081854</td>\n",
       "      <td>2.172804</td>\n",
       "      <td>-3.672594</td>\n",
       "      <td>-6.359476</td>\n",
       "      <td>3.0</td>\n",
       "    </tr>\n",
       "    <tr>\n",
       "      <th>4</th>\n",
       "      <td>12.582414</td>\n",
       "      <td>-20.048431</td>\n",
       "      <td>0.236620</td>\n",
       "      <td>-7.352642</td>\n",
       "      <td>-2.680846</td>\n",
       "      <td>-5.635102</td>\n",
       "      <td>4.440549</td>\n",
       "      <td>-3.257457</td>\n",
       "      <td>-5.421510</td>\n",
       "      <td>-3.211081</td>\n",
       "      <td>-8.593637</td>\n",
       "      <td>-5.570042</td>\n",
       "      <td>4.0</td>\n",
       "    </tr>\n",
       "    <tr>\n",
       "      <th>5</th>\n",
       "      <td>11.374867</td>\n",
       "      <td>-8.261425</td>\n",
       "      <td>-6.674204</td>\n",
       "      <td>-3.537265</td>\n",
       "      <td>-2.049147</td>\n",
       "      <td>-15.256732</td>\n",
       "      <td>2.372672</td>\n",
       "      <td>-7.319962</td>\n",
       "      <td>-10.607784</td>\n",
       "      <td>1.151389</td>\n",
       "      <td>-5.078557</td>\n",
       "      <td>-3.612989</td>\n",
       "      <td>5.0</td>\n",
       "    </tr>\n",
       "    <tr>\n",
       "      <th>6</th>\n",
       "      <td>15.130975</td>\n",
       "      <td>-10.398570</td>\n",
       "      <td>-7.273264</td>\n",
       "      <td>6.777935</td>\n",
       "      <td>-0.092872</td>\n",
       "      <td>-22.594124</td>\n",
       "      <td>3.398076</td>\n",
       "      <td>-6.809922</td>\n",
       "      <td>-12.596327</td>\n",
       "      <td>2.683211</td>\n",
       "      <td>-4.342238</td>\n",
       "      <td>-3.907392</td>\n",
       "      <td>6.0</td>\n",
       "    </tr>\n",
       "    <tr>\n",
       "      <th>7</th>\n",
       "      <td>10.447524</td>\n",
       "      <td>-29.542980</td>\n",
       "      <td>-12.875895</td>\n",
       "      <td>-4.500975</td>\n",
       "      <td>0.207055</td>\n",
       "      <td>-10.310458</td>\n",
       "      <td>5.883562</td>\n",
       "      <td>-1.502881</td>\n",
       "      <td>-6.723585</td>\n",
       "      <td>-2.647116</td>\n",
       "      <td>-2.846984</td>\n",
       "      <td>0.620602</td>\n",
       "      <td>7.0</td>\n",
       "    </tr>\n",
       "    <tr>\n",
       "      <th>8</th>\n",
       "      <td>14.790805</td>\n",
       "      <td>-8.729446</td>\n",
       "      <td>0.229353</td>\n",
       "      <td>-1.228610</td>\n",
       "      <td>0.464105</td>\n",
       "      <td>-11.152055</td>\n",
       "      <td>5.661992</td>\n",
       "      <td>-2.791287</td>\n",
       "      <td>-9.713887</td>\n",
       "      <td>0.064343</td>\n",
       "      <td>-3.384192</td>\n",
       "      <td>-3.268591</td>\n",
       "      <td>8.0</td>\n",
       "    </tr>\n",
       "    <tr>\n",
       "      <th>9</th>\n",
       "      <td>14.021282</td>\n",
       "      <td>-12.026842</td>\n",
       "      <td>-2.831477</td>\n",
       "      <td>1.722735</td>\n",
       "      <td>0.554000</td>\n",
       "      <td>-11.666233</td>\n",
       "      <td>6.743605</td>\n",
       "      <td>-5.587467</td>\n",
       "      <td>-8.764580</td>\n",
       "      <td>1.631364</td>\n",
       "      <td>-7.663069</td>\n",
       "      <td>-4.031754</td>\n",
       "      <td>9.0</td>\n",
       "    </tr>\n",
       "  </tbody>\n",
       "</table>\n",
       "</div>"
      ],
      "text/plain": [
       "         Fe1        Fe2        Fe3       Fe4       Fe5        Fe6       Fe7  \\\n",
       "0  14.009980 -10.883263   4.365307  4.986854  2.435013 -12.367657  0.054216   \n",
       "1  12.618823 -18.567271  -0.825264 -2.935280 -1.252682 -10.560307  3.010610   \n",
       "2  12.210632 -26.004803  -5.622614 -6.454565  0.081624  -6.172828  4.900269   \n",
       "3  13.355268 -14.450084   0.671483  0.231994  1.089737 -11.538107  2.880812   \n",
       "4  12.582414 -20.048431   0.236620 -7.352642 -2.680846  -5.635102  4.440549   \n",
       "5  11.374867  -8.261425  -6.674204 -3.537265 -2.049147 -15.256732  2.372672   \n",
       "6  15.130975 -10.398570  -7.273264  6.777935 -0.092872 -22.594124  3.398076   \n",
       "7  10.447524 -29.542980 -12.875895 -4.500975  0.207055 -10.310458  5.883562   \n",
       "8  14.790805  -8.729446   0.229353 -1.228610  0.464105 -11.152055  5.661992   \n",
       "9  14.021282 -12.026842  -2.831477  1.722735  0.554000 -11.666233  6.743605   \n",
       "\n",
       "        Fe8        Fe9      Fe10      Fe11      Fe12  Target  \n",
       "0 -6.505667  -6.805871  2.364852 -4.845748 -4.725184     0.0  \n",
       "1  0.327419   0.905538  6.674397 -0.364233 -4.261779     1.0  \n",
       "2 -0.985544  -3.634996  0.872817 -2.394720 -4.316653     2.0  \n",
       "3 -1.121280  -4.081854  2.172804 -3.672594 -6.359476     3.0  \n",
       "4 -3.257457  -5.421510 -3.211081 -8.593637 -5.570042     4.0  \n",
       "5 -7.319962 -10.607784  1.151389 -5.078557 -3.612989     5.0  \n",
       "6 -6.809922 -12.596327  2.683211 -4.342238 -3.907392     6.0  \n",
       "7 -1.502881  -6.723585 -2.647116 -2.846984  0.620602     7.0  \n",
       "8 -2.791287  -9.713887  0.064343 -3.384192 -3.268591     8.0  \n",
       "9 -5.587467  -8.764580  1.631364 -7.663069 -4.031754     9.0  "
      ]
     },
     "execution_count": 4,
     "metadata": {},
     "output_type": "execute_result"
    }
   ],
   "source": [
    "mydata.head(10)"
   ]
  },
  {
   "cell_type": "markdown",
   "metadata": {},
   "source": [
    "#### 2. Checker les variables quantitatives/qualitatives et les valeurs manquantes "
   ]
  },
  {
   "cell_type": "code",
   "execution_count": 5,
   "metadata": {},
   "outputs": [
    {
     "name": "stdout",
     "output_type": "stream",
     "text": [
      "<class 'pandas.core.frame.DataFrame'>\n",
      "RangeIndex: 211 entries, 0 to 210\n",
      "Data columns (total 13 columns):\n",
      " #   Column  Non-Null Count  Dtype  \n",
      "---  ------  --------------  -----  \n",
      " 0   Fe1     211 non-null    float64\n",
      " 1   Fe2     211 non-null    float64\n",
      " 2   Fe3     211 non-null    float64\n",
      " 3   Fe4     211 non-null    float64\n",
      " 4   Fe5     211 non-null    float64\n",
      " 5   Fe6     211 non-null    float64\n",
      " 6   Fe7     211 non-null    float64\n",
      " 7   Fe8     211 non-null    float64\n",
      " 8   Fe9     211 non-null    float64\n",
      " 9   Fe10    211 non-null    float64\n",
      " 10  Fe11    211 non-null    float64\n",
      " 11  Fe12    211 non-null    float64\n",
      " 12  Target  211 non-null    float64\n",
      "dtypes: float64(13)\n",
      "memory usage: 21.6 KB\n"
     ]
    }
   ],
   "source": [
    "mydata.info()"
   ]
  },
  {
   "cell_type": "markdown",
   "metadata": {},
   "source": [
    "#### 3. Visualiser les targets"
   ]
  },
  {
   "cell_type": "code",
   "execution_count": 6,
   "metadata": {},
   "outputs": [
    {
     "data": {
      "text/plain": [
       "0      0.0\n",
       "1      1.0\n",
       "2      2.0\n",
       "3      3.0\n",
       "4      4.0\n",
       "      ... \n",
       "206    6.0\n",
       "207    7.0\n",
       "208    8.0\n",
       "209    9.0\n",
       "210    0.0\n",
       "Name: Target, Length: 211, dtype: float64"
      ]
     },
     "execution_count": 6,
     "metadata": {},
     "output_type": "execute_result"
    }
   ],
   "source": [
    "mydata['Target']"
   ]
  },
  {
   "cell_type": "markdown",
   "metadata": {},
   "source": [
    "#### 4. Notre variable target (Y) est 'gender', Récuprer X et y à partir du jeu de données "
   ]
  },
  {
   "cell_type": "code",
   "execution_count": 7,
   "metadata": {},
   "outputs": [
    {
     "data": {
      "text/plain": [
       "(211, 12)"
      ]
     },
     "execution_count": 7,
     "metadata": {},
     "output_type": "execute_result"
    }
   ],
   "source": [
    "y = mydata['Target']\n",
    "X = mydata.iloc[:,:-1]\n",
    "X.shape"
   ]
  },
  {
   "cell_type": "markdown",
   "metadata": {},
   "source": [
    "#### 5. Diviser la DataSet en donneés d'apprentissage et de test (20% pour le test)"
   ]
  },
  {
   "cell_type": "code",
   "execution_count": 8,
   "metadata": {},
   "outputs": [],
   "source": [
    "X_train, X_test, y_train, y_test = train_test_split(X, y, test_size=0.2)"
   ]
  },
  {
   "cell_type": "markdown",
   "metadata": {},
   "source": [
    "#### 6. Appliquer une normalisation centrée-réduite aux données en utilisant \"StandardScaler\""
   ]
  },
  {
   "cell_type": "code",
   "execution_count": 9,
   "metadata": {},
   "outputs": [
    {
     "name": "stdout",
     "output_type": "stream",
     "text": [
      "StandardScaler()\n"
     ]
    }
   ],
   "source": [
    "scaler = StandardScaler()\n",
    "print(scaler.fit(mydata))"
   ]
  },
  {
   "cell_type": "markdown",
   "metadata": {},
   "source": [
    "#### 7. Développer votre meilleur modèle de classification"
   ]
  },
  {
   "cell_type": "markdown",
   "metadata": {},
   "source": [
    "# xgboost"
   ]
  },
  {
   "cell_type": "code",
   "execution_count": 10,
   "metadata": {},
   "outputs": [],
   "source": [
    "from xgboost import XGBClassifier"
   ]
  },
  {
   "cell_type": "code",
   "execution_count": 11,
   "metadata": {},
   "outputs": [
    {
     "name": "stderr",
     "output_type": "stream",
     "text": [
      "C:\\Users\\utilisateur\\anaconda3\\lib\\site-packages\\xgboost\\sklearn.py:1224: UserWarning: The use of label encoder in XGBClassifier is deprecated and will be removed in a future release. To remove this warning, do the following: 1) Pass option use_label_encoder=False when constructing XGBClassifier object; and 2) Encode your labels (y) as integers starting with 0, i.e. 0, 1, 2, ..., [num_class - 1].\n",
      "  warnings.warn(label_encoder_deprecation_msg, UserWarning)\n"
     ]
    },
    {
     "name": "stdout",
     "output_type": "stream",
     "text": [
      "[11:27:08] WARNING: C:/Users/Administrator/workspace/xgboost-win64_release_1.5.1/src/learner.cc:1115: Starting in XGBoost 1.3.0, the default evaluation metric used with the objective 'multi:softprob' was changed from 'merror' to 'mlogloss'. Explicitly set eval_metric if you'd like to restore the old behavior.\n"
     ]
    }
   ],
   "source": [
    "from xgboost import XGBClassifier\n",
    "modelexgb = XGBClassifier()\n",
    "modelexgb.fit(X_train, y_train)\n",
    "y_pred=modelexgb.predict(X_test)"
   ]
  },
  {
   "cell_type": "code",
   "execution_count": 12,
   "metadata": {},
   "outputs": [
    {
     "name": "stdout",
     "output_type": "stream",
     "text": [
      "Accuracy: 76.74%\n",
      "\n",
      "Matrice de confusion\n",
      "\n",
      "[[6 0 0 0 0 0 0 0 0 0]\n",
      " [0 3 0 1 0 0 0 0 0 0]\n",
      " [0 1 3 0 0 0 0 0 1 0]\n",
      " [0 2 0 3 0 0 0 0 0 0]\n",
      " [1 0 0 0 2 0 0 0 0 0]\n",
      " [0 0 0 0 0 0 0 0 0 1]\n",
      " [0 0 0 0 0 0 7 0 0 0]\n",
      " [0 0 0 0 0 1 0 3 0 0]\n",
      " [0 0 1 0 0 0 0 0 2 0]\n",
      " [0 0 1 0 0 0 0 0 0 4]]\n"
     ]
    }
   ],
   "source": [
    "from sklearn.metrics import accuracy_score\n",
    "from sklearn.metrics import confusion_matrix\n",
    "accuracy = accuracy_score(y_test, y_pred)\n",
    "confusion = confusion_matrix(y_test, y_pred)\n",
    "print('Accuracy: %.2f%%\\n' % (accuracy * 100.0))\n",
    "print('Matrice de confusion\\n')\n",
    "print(confusion)"
   ]
  },
  {
   "cell_type": "markdown",
   "metadata": {},
   "source": [
    "# arbre de decision"
   ]
  },
  {
   "cell_type": "code",
   "execution_count": 13,
   "metadata": {},
   "outputs": [],
   "source": [
    "modeledtree = DecisionTreeClassifier()\n",
    "modeledtree.fit(X_train, y_train)\n",
    "y_pred=modeledtree.predict(X_test)"
   ]
  },
  {
   "cell_type": "code",
   "execution_count": 14,
   "metadata": {},
   "outputs": [
    {
     "name": "stdout",
     "output_type": "stream",
     "text": [
      "Accuracy: 60.47%\n",
      "\n",
      "Matrice de confusion\n",
      "\n",
      "[[4 0 0 2 0 0 0 0 0 0]\n",
      " [0 3 0 1 0 0 0 0 0 0]\n",
      " [1 0 3 0 0 0 0 0 0 1]\n",
      " [1 3 0 1 0 0 0 0 0 0]\n",
      " [1 1 0 0 1 0 0 0 0 0]\n",
      " [0 0 0 0 1 0 0 0 0 0]\n",
      " [0 0 0 0 0 0 7 0 0 0]\n",
      " [0 0 0 0 0 1 0 2 0 1]\n",
      " [0 0 0 0 0 0 0 0 3 0]\n",
      " [0 0 0 0 2 0 0 1 0 2]]\n"
     ]
    }
   ],
   "source": [
    "accuracy = accuracy_score(y_test, y_pred)\n",
    "confusion = confusion_matrix(y_test, y_pred)\n",
    "print('Accuracy: %.2f%%\\n' % (accuracy * 100.0))\n",
    "print('Matrice de confusion\\n')\n",
    "print(confusion)"
   ]
  },
  {
   "cell_type": "markdown",
   "metadata": {},
   "source": [
    "# random forest"
   ]
  },
  {
   "cell_type": "code",
   "execution_count": 15,
   "metadata": {},
   "outputs": [],
   "source": [
    "modeleforest = RandomForestClassifier()\n",
    "modeleforest.fit(X_train, y_train)\n",
    "y_pred=modeleforest.predict(X_test)"
   ]
  },
  {
   "cell_type": "code",
   "execution_count": 16,
   "metadata": {},
   "outputs": [
    {
     "name": "stdout",
     "output_type": "stream",
     "text": [
      "Accuracy: 90.70%\n",
      "\n",
      "Matrice de confusion\n",
      "\n",
      "[[6 0 0 0 0 0 0 0 0 0]\n",
      " [1 3 0 0 0 0 0 0 0 0]\n",
      " [1 0 4 0 0 0 0 0 0 0]\n",
      " [0 1 0 4 0 0 0 0 0 0]\n",
      " [0 0 0 0 3 0 0 0 0 0]\n",
      " [0 0 0 0 0 0 0 0 0 1]\n",
      " [0 0 0 0 0 0 7 0 0 0]\n",
      " [0 0 0 0 0 0 0 4 0 0]\n",
      " [0 0 0 0 0 0 0 0 3 0]\n",
      " [0 0 0 0 0 0 0 0 0 5]]\n"
     ]
    }
   ],
   "source": [
    "accuracy = accuracy_score(y_test, y_pred)\n",
    "confusion = confusion_matrix(y_test, y_pred)\n",
    "print('Accuracy: %.2f%%\\n' % (accuracy * 100.0))\n",
    "print('Matrice de confusion\\n')\n",
    "print(confusion)"
   ]
  },
  {
   "cell_type": "markdown",
   "metadata": {},
   "source": [
    "# SVM"
   ]
  },
  {
   "cell_type": "code",
   "execution_count": 17,
   "metadata": {},
   "outputs": [],
   "source": [
    "modelesvm = SVC()\n",
    "modelesvm.fit(X_train, y_train)\n",
    "y_pred=modelesvm.predict(X_test)"
   ]
  },
  {
   "cell_type": "code",
   "execution_count": 18,
   "metadata": {},
   "outputs": [
    {
     "name": "stdout",
     "output_type": "stream",
     "text": [
      "Accuracy: 58.14%\n",
      "\n",
      "Matrice de confusion\n",
      "\n",
      "[[5 1 0 0 0 0 0 0 0 0]\n",
      " [0 4 0 0 0 0 0 0 0 0]\n",
      " [0 0 1 0 1 0 0 0 3 0]\n",
      " [0 5 0 0 0 0 0 0 0 0]\n",
      " [0 0 0 0 2 1 0 0 0 0]\n",
      " [0 0 0 0 0 0 0 0 0 1]\n",
      " [0 0 0 0 0 0 7 0 0 0]\n",
      " [0 0 0 0 0 0 0 4 0 0]\n",
      " [0 0 1 0 0 0 0 0 2 0]\n",
      " [0 0 0 0 0 5 0 0 0 0]]\n"
     ]
    }
   ],
   "source": [
    "accuracy = accuracy_score(y_test, y_pred)\n",
    "confusion = confusion_matrix(y_test, y_pred)\n",
    "print('Accuracy: %.2f%%\\n' % (accuracy * 100.0))\n",
    "print('Matrice de confusion\\n')\n",
    "print(confusion)"
   ]
  },
  {
   "cell_type": "markdown",
   "metadata": {},
   "source": [
    "# MLP"
   ]
  },
  {
   "cell_type": "code",
   "execution_count": 19,
   "metadata": {},
   "outputs": [
    {
     "name": "stderr",
     "output_type": "stream",
     "text": [
      "C:\\Users\\utilisateur\\anaconda3\\lib\\site-packages\\sklearn\\neural_network\\_multilayer_perceptron.py:582: ConvergenceWarning: Stochastic Optimizer: Maximum iterations (200) reached and the optimization hasn't converged yet.\n",
      "  warnings.warn(\n"
     ]
    }
   ],
   "source": [
    "modelemlp = MLPClassifier()\n",
    "modelemlp.fit(X_train, y_train)\n",
    "y_pred=modelemlp.predict(X_test)"
   ]
  },
  {
   "cell_type": "code",
   "execution_count": 20,
   "metadata": {
    "scrolled": false
   },
   "outputs": [
    {
     "name": "stdout",
     "output_type": "stream",
     "text": [
      "Accuracy: 81.40%\n",
      "\n",
      "Matrice de confusion\n",
      "\n",
      "[[6 0 0 0 0 0 0 0 0 0]\n",
      " [0 2 0 2 0 0 0 0 0 0]\n",
      " [0 1 4 0 0 0 0 0 0 0]\n",
      " [0 2 0 3 0 0 0 0 0 0]\n",
      " [0 0 0 0 2 0 0 1 0 0]\n",
      " [0 0 0 0 0 0 0 0 0 1]\n",
      " [0 0 0 0 0 0 7 0 0 0]\n",
      " [0 0 0 0 0 0 0 4 0 0]\n",
      " [0 0 1 0 0 0 0 0 2 0]\n",
      " [0 0 0 0 0 0 0 0 0 5]]\n"
     ]
    }
   ],
   "source": [
    "accuracy = accuracy_score(y_test, y_pred)\n",
    "confusion = confusion_matrix(y_test, y_pred)\n",
    "print('Accuracy: %.2f%%\\n' % (accuracy * 100.0))\n",
    "print('Matrice de confusion\\n')\n",
    "print(confusion)"
   ]
  },
  {
   "cell_type": "code",
   "execution_count": 21,
   "metadata": {},
   "outputs": [],
   "source": [
    "from sklearn.pipeline import Pipeline\n",
    "from sklearn.model_selection import train_test_split, GridSearchCV"
   ]
  },
  {
   "cell_type": "code",
   "execution_count": 22,
   "metadata": {},
   "outputs": [],
   "source": [
    "pipe_rf = Pipeline([('scl', StandardScaler()),\n",
    "                    ('RF',RandomForestClassifier(random_state=4))])\n",
    "pipe_svm = Pipeline([('scl', StandardScaler()),\n",
    "                     ('SVM', SVC(random_state=4))])"
   ]
  },
  {
   "cell_type": "code",
   "execution_count": 23,
   "metadata": {},
   "outputs": [],
   "source": [
    "param_range = [1, 2, 3, 4, 5, 6]\n",
    "param_range_fl = [1.0, 0.5, 0.1]\n",
    "n_estimators = [50,100,150]\n",
    "learning_rates = [.1,.2,.3]\n",
    "\n",
    "rf_param_grid = [{'RF__min_samples_leaf': param_range,\n",
    "                   'RF__max_depth': param_range,\n",
    "                   'RF__min_samples_split': param_range[1:]}]\n",
    "\n",
    "svm_param_grid = [{'SVM__kernel': ['linear', 'rbf'], \n",
    "                    'SVM__C': param_range}]\n"
   ]
  },
  {
   "cell_type": "code",
   "execution_count": 24,
   "metadata": {},
   "outputs": [],
   "source": [
    "rf_grid_search = GridSearchCV(estimator=pipe_rf,\n",
    "        param_grid=rf_param_grid,\n",
    "        scoring='accuracy',\n",
    "        cv=3)\n",
    "\n",
    "svm_grid_search = GridSearchCV(estimator=pipe_svm,\n",
    "        param_grid=svm_param_grid,\n",
    "        scoring='accuracy',\n",
    "        cv=3)\n"
   ]
  },
  {
   "cell_type": "code",
   "execution_count": 26,
   "metadata": {
    "scrolled": true
   },
   "outputs": [],
   "source": [
    "grids = [rf_grid_search, svm_grid_search]\n",
    "for pipe in grids:\n",
    "    pipe.fit(X_train,y_train)"
   ]
  },
  {
   "cell_type": "code",
   "execution_count": 27,
   "metadata": {},
   "outputs": [
    {
     "name": "stdout",
     "output_type": "stream",
     "text": [
      "Decision Trees Test Accuracy: 0.8372093023255814\n",
      "Decision Trees Best Params: {'RF__max_depth': 6, 'RF__min_samples_leaf': 4, 'RF__min_samples_split': 2}\n",
      "Support Vector Machines Test Accuracy: 0.8372093023255814\n",
      "Support Vector Machines Best Params: {'SVM__C': 5, 'SVM__kernel': 'rbf'}\n"
     ]
    }
   ],
   "source": [
    "grid_dict = {0: 'Decision Trees',1: 'Support Vector Machines'}\n",
    "\n",
    "for i, model in enumerate(grids):\n",
    "    print('{} Test Accuracy: {}'.format(grid_dict[i],\n",
    "    model.score(X_test,y_test)))\n",
    "    print('{} Best Params: {}'.format(grid_dict[i],          \n",
    "model.best_params_))"
   ]
  },
  {
   "cell_type": "markdown",
   "metadata": {},
   "source": [
    "from sklearn.metrics import plot_confusion_matrix\n",
    "plot_confusion_matrix(xgb_grid_search, X_test, y_test)"
   ]
  },
  {
   "cell_type": "markdown",
   "metadata": {},
   "source": [
    "# Application en Temps Réel"
   ]
  },
  {
   "cell_type": "code",
   "execution_count": 38,
   "metadata": {},
   "outputs": [],
   "source": [
    "from Tools.tools import rec"
   ]
  },
  {
   "cell_type": "code",
   "execution_count": 43,
   "metadata": {},
   "outputs": [
    {
     "name": "stdout",
     "output_type": "stream",
     "text": [
      "Attention, l'enregistrement commence dans :\n",
      "5\n",
      "4\n",
      "3\n",
      "2\n",
      "1\n",
      "0\n",
      "Prononcer votre Digit : \n",
      "------------------\n",
      "Digit :  6.0\n",
      "------------------\n"
     ]
    }
   ],
   "source": [
    "scaler=StandardScaler().fit(X_train,y_train)\n",
    "X_train = scaler.transform(X_train)\n",
    "opti=RandomForestClassifier(n_estimators = 50).fit(X_train,y_train)\n",
    "\n",
    "rec(scaler,opti)"
   ]
  },
  {
   "cell_type": "code",
   "execution_count": null,
   "metadata": {},
   "outputs": [],
   "source": []
  }
 ],
 "metadata": {
  "kernelspec": {
   "display_name": "Python 3",
   "language": "python",
   "name": "python3"
  },
  "language_info": {
   "codemirror_mode": {
    "name": "ipython",
    "version": 3
   },
   "file_extension": ".py",
   "mimetype": "text/x-python",
   "name": "python",
   "nbconvert_exporter": "python",
   "pygments_lexer": "ipython3",
   "version": "3.8.3"
  }
 },
 "nbformat": 4,
 "nbformat_minor": 5
}
